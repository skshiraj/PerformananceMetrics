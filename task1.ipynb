{
  "nbformat": 4,
  "nbformat_minor": 0,
  "metadata": {
    "colab": {
      "name": "5_Performance_metrics_Instructions.ipynb",
      "version": "0.3.2",
      "provenance": [],
      "collapsed_sections": [],
      "toc_visible": true
    },
    "language_info": {
      "codemirror_mode": {
        "name": "ipython",
        "version": 3
      },
      "file_extension": ".py",
      "mimetype": "text/x-python",
      "name": "python",
      "nbconvert_exporter": "python",
      "pygments_lexer": "ipython3",
      "version": "3.6.8"
    },
    "kernelspec": {
      "display_name": "Python 3",
      "language": "python",
      "name": "python3"
    }
  },
  "cells": [
    {
      "cell_type": "markdown",
      "metadata": {
        "id": "s0Ej_bXyQvnV",
        "colab_type": "text"
      },
      "source": [
        "# Compute performance metrics for the given Y and Y_score without sklearn"
      ]
    },
    {
      "cell_type": "code",
      "metadata": {
        "id": "4CHb6NE7Qvnc",
        "colab_type": "code",
        "outputId": "bb222e02-01fb-475a-be4f-126c74a1874a",
        "colab": {
          "base_uri": "https://localhost:8080/",
          "height": 34
        }
      },
      "source": [
        "import numpy as np\n",
        "import pandas as pd\n",
        "import matplotlib.pyplot as plt \n",
        "data = pd.read_csv(\"/content/5_a.csv\") \n",
        "data.shape\n",
        "\n"
      ],
      "execution_count": 2,
      "outputs": [
        {
          "output_type": "execute_result",
          "data": {
            "text/plain": [
              "(10100, 2)"
            ]
          },
          "metadata": {
            "tags": []
          },
          "execution_count": 2
        }
      ]
    },
    {
      "cell_type": "code",
      "metadata": {
        "id": "Vzqrg1cJ_O0v",
        "colab_type": "code",
        "colab": {}
      },
      "source": [
        "def label(proba):\n",
        "  if proba>0.5:\n",
        "    return 1.0\n",
        "  else:\n",
        "    return 0.0\n",
        "data['Y_Pred'] = data.apply(lambda row:label(row.proba),axis=1)"
      ],
      "execution_count": 0,
      "outputs": []
    },
    {
      "cell_type": "markdown",
      "metadata": {
        "id": "lowX6Lo6M1HX",
        "colab_type": "text"
      },
      "source": [
        "# **Confusion Matrix**"
      ]
    },
    {
      "cell_type": "code",
      "metadata": {
        "id": "YhM8y_-aMxCB",
        "colab_type": "code",
        "outputId": "702f1ae7-9ced-401c-e98d-00bfce8c9081",
        "colab": {
          "base_uri": "https://localhost:8080/",
          "height": 51
        }
      },
      "source": [
        "TN=0\n",
        "FN=0\n",
        "FP=0\n",
        "TP=0\n",
        "for i in range(len(data.Y_Pred)):\n",
        "  if data.iloc[i][0]==0:    #actual value=0\n",
        "    if data.iloc[i][2]==0:\n",
        "      TN=TN+1\n",
        "    elif data.iloc[i][2]==1:\n",
        "      FP=FP+1\n",
        "  elif data.iloc[i][0]==1:  #actual value=1\n",
        "    if data.iloc[i][2]==0:\n",
        "      FN=FN+1\n",
        "    elif data.iloc[i][2]==1:\n",
        "      TP=TP+1    \n",
        "print(TN,FN,FP,TP)\n",
        "print(len(data.Y_Pred))\n",
        "    \n",
        "    "
      ],
      "execution_count": 9,
      "outputs": [
        {
          "output_type": "stream",
          "text": [
            "0 0 100 10000\n",
            "10100\n"
          ],
          "name": "stdout"
        }
      ]
    },
    {
      "cell_type": "code",
      "metadata": {
        "id": "86ZT8lsFTVMN",
        "colab_type": "code",
        "outputId": "e22b913d-9cdf-4195-aa12-0efc7c59cbaa",
        "colab": {
          "base_uri": "https://localhost:8080/",
          "height": 119
        }
      },
      "source": [
        "#F1-score:\n",
        "P=0\n",
        "N=0\n",
        "TPR=0\n",
        "Pr=0\n",
        "Re=0\n",
        "F1=0\n",
        "for i in range(len(data.Y_Pred)):\n",
        "  if data.iloc[i][0]==1:\n",
        "    P=P+1\n",
        "print(P)\n",
        "for i in range(len(data.Y_Pred)):\n",
        "  if data.iloc[i][0]==0:\n",
        "    N=N+1\n",
        "print(N)\n",
        "\n",
        "TPR=TP/P\n",
        "Re=TPR\n",
        "print(TPR)\n",
        "Pr=(TP/(TP+FP))\n",
        "print(Pr)\n",
        "F1=((Pr*Re*2)/(Pr+Re))\n",
        "print(F1)\n",
        "\n",
        "Accuracy=((TN+TP)/(len(data.Y_Pred)))\n",
        "print(Accuracy)"
      ],
      "execution_count": 10,
      "outputs": [
        {
          "output_type": "stream",
          "text": [
            "10000\n",
            "100\n",
            "1.0\n",
            "0.9900990099009901\n",
            "0.9950248756218906\n",
            "0.9900990099009901\n"
          ],
          "name": "stdout"
        }
      ]
    },
    {
      "cell_type": "code",
      "metadata": {
        "id": "YjZzW_1kWBL0",
        "colab_type": "code",
        "outputId": "049ec1ac-520a-44e6-af85-3a8aa4a1e9d6",
        "colab": {
          "base_uri": "https://localhost:8080/",
          "height": 34
        }
      },
      "source": [
        "Y_Unique=data['proba'].unique()\n",
        "Y_Sorted=sorted(Y_Unique, reverse=True)\n",
        "len(Y_Sorted)\n",
        "print(Y_Sorted[2])"
      ],
      "execution_count": 11,
      "outputs": [
        {
          "output_type": "stream",
          "text": [
            "0.89982484614942\n"
          ],
          "name": "stdout"
        }
      ]
    },
    {
      "cell_type": "markdown",
      "metadata": {
        "id": "zg7MC8_L_h4v",
        "colab_type": "text"
      },
      "source": [
        "# **Threshold**"
      ]
    },
    {
      "cell_type": "code",
      "metadata": {
        "id": "UA_pH1v3aLUd",
        "colab_type": "code",
        "outputId": "0b4968f0-67c1-4a5c-aac2-c4fc0a16e46d",
        "colab": {
          "base_uri": "https://localhost:8080/",
          "height": 411
        }
      },
      "source": [
        "FPR=[]\n",
        "TPR=[]\n",
        "def label(proba,Y):\n",
        "  if proba>Y:\n",
        "    return 1.0\n",
        "  else:\n",
        "    return 0.0\n",
        "num1=(len(Y_Sorted)/20) \n",
        "num2=int(num1)\n",
        "for j in range(20):\n",
        "  j=j*num2\n",
        "  TP=0\n",
        "  FP=0\n",
        "  data['Y_Pred'] = data.apply(lambda row:label(row.proba,Y_Sorted[j]),axis=1)\n",
        "  print(Y_Sorted[j])\n",
        "  for i in range(len(data.Y_Pred)):\n",
        "    if data.iloc[i][0]==0 and data.iloc[i][2]==1:\n",
        "        FP=FP+1\n",
        "    elif data.iloc[i][0]==1 and data.iloc[i][2]==1:\n",
        "        TP=TP+1 \n",
        "  #print(TP,FP)    \n",
        "  TPR.append(TP/P)\n",
        "  FPR.append(FP/N)\n",
        "print(TPR)\n",
        "print(FPR)\n",
        "\n",
        "  \n",
        "    "
      ],
      "execution_count": 12,
      "outputs": [
        {
          "output_type": "stream",
          "text": [
            "0.8999653487823838\n",
            "0.8789433467386063\n",
            "0.8586802522675053\n",
            "0.8367123843724431\n",
            "0.8152561086276665\n",
            "0.7939112121227851\n",
            "0.7727822752553082\n",
            "0.7542612391647749\n",
            "0.7350780957724631\n",
            "0.7158581925180078\n",
            "0.6970089962073902\n",
            "0.6778537607355049\n",
            "0.6592325052519856\n",
            "0.6390345012312024\n",
            "0.6197965132162059\n",
            "0.600521990944984\n",
            "0.5782148375959256\n",
            "0.5596598747232789\n",
            "0.5390419204554349\n",
            "0.5189471886154078\n",
            "[0.0, 0.0499, 0.0997, 0.1498, 0.2, 0.2499, 0.3001, 0.3498, 0.3997, 0.4499, 0.4998, 0.5497, 0.6001, 0.65, 0.6997, 0.7497, 0.7996, 0.8498, 0.9001, 0.9503]\n",
            "[0.0, 0.06, 0.13, 0.17, 0.2, 0.26, 0.29, 0.37, 0.43, 0.46, 0.52, 0.58, 0.59, 0.65, 0.73, 0.78, 0.84, 0.87, 0.89, 0.92]\n"
          ],
          "name": "stdout"
        }
      ]
    },
    {
      "cell_type": "code",
      "metadata": {
        "id": "g5kAaCYGTeH_",
        "colab_type": "code",
        "outputId": "c544231b-575a-44eb-e3cc-087b17fedd4b",
        "colab": {
          "base_uri": "https://localhost:8080/",
          "height": 34
        }
      },
      "source": [
        "pAUC = np.trapz(TPR,FPR)\n",
        "print(pAUC)"
      ],
      "execution_count": 13,
      "outputs": [
        {
          "output_type": "stream",
          "text": [
            "0.409868\n"
          ],
          "name": "stdout"
        }
      ]
    },
    {
      "cell_type": "code",
      "metadata": {
        "id": "o496zxOMUBFX",
        "colab_type": "code",
        "colab": {}
      },
      "source": [
        "plt.plot(TPR,FPR)"
      ],
      "execution_count": 0,
      "outputs": []
    },
    {
      "cell_type": "markdown",
      "metadata": {
        "id": "KbsWXuDaQvnq",
        "colab_type": "text"
      },
      "source": [
        "<pre>\n",
        "<font color='red'><b>A.</b></font> Compute performance metrics for the given data <strong>5_a.csv</strong>\n",
        "   <b>Note 1:</b> in this data you can see number of positive points >> number of negatives points\n",
        "   <b>Note 2:</b> use pandas or numpy to read the data from <b>5_a.csv</b>\n",
        "   <b>Note 3:</b> you need to derive the class labels from given score</pre> $y^{pred}= \\text{[0 if y_score < 0.5 else 1]}$\n",
        "\n",
        "<pre>\n",
        "<ol>\n",
        "<li> Compute Confusion Matrix </li>\n",
        "<li> Compute F1 Score </li>\n",
        "<li> Compute AUC Score, you need to compute different thresholds and for each threshold compute tpr,fpr and then use               numpy.trapz(tpr_array, fpr_array) <a href='https://stackoverflow.com/q/53603376/4084039'>https://stackoverflow.com/q/53603376/4084039</a>, <a href='https://stackoverflow.com/a/39678975/4084039'>https://stackoverflow.com/a/39678975/4084039</a> Note: it should be numpy.trapz(tpr_array, fpr_array) not numpy.trapz(fpr_array, tpr_array)</li>\n",
        "<li> Compute Accuracy Score </li>\n",
        "</ol>\n",
        "</pre>"
      ]
    },
    {
      "cell_type": "markdown",
      "metadata": {
        "id": "GiPGonTzQvoB",
        "colab_type": "text"
      },
      "source": [
        "<font color='red'><b>C.</b></font> Compute the best threshold (similarly to ROC curve computation) of probability which gives lowest values of metric for the given data <strong>5_c.csv</strong>\n",
        "<br>\n",
        "\n",
        "you will be predicting label of a data points like this: $y^{pred}= \\text{[0 if y_score < threshold  else 1]}$\n",
        "\n",
        "$ A = 500 \\times \\text{numebr of false positives} + 100 \\times \\text{numebr of false negatives}$\n",
        "\n",
        "<pre>\n",
        "   <b>Note 1:</b> in this data you can see number of positive points < number of positive points\n",
        "   <b>Note 2:</b> use pandas or numpy to read the data from <b>5_c.csv</b>\n",
        "</pre>"
      ]
    },
    {
      "cell_type": "code",
      "metadata": {
        "id": "x5HIJzq1QvoE",
        "colab_type": "code",
        "colab": {}
      },
      "source": [
        "# write your code"
      ],
      "execution_count": 0,
      "outputs": []
    },
    {
      "cell_type": "markdown",
      "metadata": {
        "id": "sD4CcgjXQvoL",
        "colab_type": "text"
      },
      "source": [
        "<pre>\n",
        "<font color='red'><b>D.</b></font> Compute performance metrics(for regression) for the given data <strong>5_d.csv</strong>\n",
        "    <b>Note 2:</b> use pandas or numpy to read the data from <b>5_d.csv</b>\n",
        "    <b>Note 1:</b> <b>5_d.csv</b> will having two columns Y and predicted_Y both are real valued features\n",
        "<ol>\n",
        "<li> Compute Mean Square Error </li>\n",
        "<li> Compute MAPE: https://www.youtube.com/watch?v=ly6ztgIkUxk</li>\n",
        "<li> Compute R^2 error: https://en.wikipedia.org/wiki/Coefficient_of_determination#Definitions </li>\n",
        "</ol>\n",
        "</pre>"
      ]
    }
  ]
}